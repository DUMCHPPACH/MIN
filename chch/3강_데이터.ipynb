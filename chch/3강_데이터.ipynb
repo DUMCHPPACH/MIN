{
 "cells": [
  {
   "cell_type": "markdown",
   "source": [
    "1. 파이토치 제공 데이터 사용\r\n",
    "2. 같은 클래스 별 폴더 이미지 데이터 이용\r\n",
    "3. 개인 데이터 사용(2 types)"
   ],
   "metadata": {}
  },
  {
   "cell_type": "code",
   "execution_count": 2,
   "source": [
    "import torch\r\n",
    "import torchvision\r\n",
    "import torchvision.transforms as tr # 데이터를 불러오면서 전처리를 바로 할 수 있게 불러와주는 라이브러리\r\n",
    "from torch.utils.data import DataLoader, Dataset\r\n",
    "import numpy as np"
   ],
   "outputs": [],
   "metadata": {}
  },
  {
   "cell_type": "code",
   "execution_count": null,
   "source": [
    "transf = tr.Compose([tr.Resize(8),tr.ToTensor()])\r\n",
    "# 전처리 작업을 Compose 안에 일렬로 해준다.\r\n",
    "# compose = 순서대로 작업해준다.\r\n",
    "# "
   ],
   "outputs": [],
   "metadata": {}
  },
  {
   "cell_type": "code",
   "execution_count": 5,
   "source": [
    "trainset = torchvision.datasets.CIFAR10(root='A:\\chch\\chchdata\\data', train=True, download=True, transform=transf)\r\n",
    "testset = torchvision.datasets.CIFAR10(root='A:\\chch\\chchdata\\data', train=False, download=True, transform=transf)"
   ],
   "outputs": [
    {
     "output_type": "stream",
     "name": "stdout",
     "text": [
      "Downloading https://www.cs.toronto.edu/~kriz/cifar-10-python.tar.gz to A:\\chch\\chchdata\\data\\cifar-10-python.tar.gz\n"
     ]
    },
    {
     "output_type": "stream",
     "name": "stderr",
     "text": [
      "3.5%"
     ]
    }
   ],
   "metadata": {}
  }
 ],
 "metadata": {
  "orig_nbformat": 4,
  "language_info": {
   "name": "python",
   "version": "3.8.5",
   "mimetype": "text/x-python",
   "codemirror_mode": {
    "name": "ipython",
    "version": 3
   },
   "pygments_lexer": "ipython3",
   "nbconvert_exporter": "python",
   "file_extension": ".py"
  },
  "kernelspec": {
   "name": "python3",
   "display_name": "Python 3.8.5 64-bit ('chch': conda)"
  },
  "interpreter": {
   "hash": "a64de8b745ab094eb3381810b1d090f0053b4977cc21c07d5a367fb401258f96"
  }
 },
 "nbformat": 4,
 "nbformat_minor": 2
}