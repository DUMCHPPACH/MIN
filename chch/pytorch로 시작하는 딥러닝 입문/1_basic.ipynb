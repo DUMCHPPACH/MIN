{
 "cells": [
  {
   "cell_type": "markdown",
   "source": [
    "## 1.torch\r\n",
    "tensor등의 다양한 수학 함수가 포함되어 있으며 numpy와 유사한 구조를 가진다. \r\n",
    "\r\n",
    "## 2.torch.autograd\r\n",
    "자동 미분을 위한 함수들이 포함되어 있다. \r\n",
    "\r\n",
    "## 3.torch.nn\r\n",
    "신경망을 구축하기 위한 다양한 데이터 구조나 레이어 등이 정의되어져 있다. \r\n",
    "\r\n",
    "## 4.torch.optim\r\n",
    "SGD를 중심으로 한 파라미터 최적화 알고리즘의 구현되어 있다.\r\n",
    "\r\n",
    "## 5.torch.utils.data\r\n",
    "SGD의 반복 연산을 실행할 때 사용하는 미니 배치용 유틸리티 함수가 포함되어 있다. \r\n",
    "\r\n",
    "## 6.torch.onnx\r\n",
    "ONNX(Open Neural Network Exchange)의 포맷으로 모델을 익스포트(export)할 때 사용한다. ONNX는 서로 다른 딥 러닝 프레임워크 간에 모델을 공유할 때 사용하는 포맷이다.\r\n",
    "\r\n",
    "---\r\n",
    "# 텐서 조작하기 1\r\n",
    "  ## 벡터, 행렬, 텐서\r\n",
    "    *스칼라 : 차원이 없는 값\r\n",
    "    *벡터 : 1차원으로 구성된 값\r\n",
    "    *행렬 : 2차원으로 구성된 값\r\n",
    "    *텐서 : 3차원 이상\r\n",
    "     - 자연어 처리는 보통(batch size, 문장 길이, 단어 벡터의 차원)이라는 3차원 텐서를 사용한다.\r\n"
   ],
   "metadata": {}
  }
 ],
 "metadata": {
  "orig_nbformat": 4,
  "language_info": {
   "name": "python"
  }
 },
 "nbformat": 4,
 "nbformat_minor": 2
}