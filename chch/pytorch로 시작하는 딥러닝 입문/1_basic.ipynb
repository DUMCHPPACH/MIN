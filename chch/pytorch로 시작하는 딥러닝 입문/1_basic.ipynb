{
 "cells": [
  {
   "cell_type": "markdown",
   "source": [
    "## 1.torch\r\n",
    "tensor등의 다양한 수학 함수가 포함되어 있으며 numpy와 유사한 구조를 가진다. \r\n",
    "\r\n",
    "## 2.torch.autograd\r\n",
    "자동 미분의 \r\n"
   ],
   "metadata": {}
  }
 ],
 "metadata": {
  "orig_nbformat": 4,
  "language_info": {
   "name": "python"
  }
 },
 "nbformat": 4,
 "nbformat_minor": 2
}