{
 "cells": [
  {
   "cell_type": "markdown",
   "source": [
    "# 4. 역전파(BackPropagation)\r\n",
    "### 1. 순전파(Forward Propagation)\r\n",
    "<img src=\"https://wikidocs.net/images/page/37406/nn2_final_final.PNG\" width=\"300\" height=\"200\"> \r\n"
   ],
   "metadata": {}
  },
  {
   "cell_type": "code",
   "execution_count": null,
   "source": [],
   "outputs": [],
   "metadata": {}
  }
 ],
 "metadata": {
  "orig_nbformat": 4,
  "language_info": {
   "name": "python"
  }
 },
 "nbformat": 4,
 "nbformat_minor": 2
}