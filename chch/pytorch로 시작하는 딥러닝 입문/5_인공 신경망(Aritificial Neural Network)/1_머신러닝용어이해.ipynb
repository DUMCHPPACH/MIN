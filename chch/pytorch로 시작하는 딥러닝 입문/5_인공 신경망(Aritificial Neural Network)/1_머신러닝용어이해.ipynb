{
 "cells": [
  {
   "cell_type": "markdown",
   "source": [
    "# 1. 머신 러닝 모델의 평가\r\n",
    "\r\n",
    "## train, validation, test로 나누는 이유 : \r\n",
    "validation은 모델의 성능을 평가하기 위한 용도가 아니라, 모델의 성능을 조정하기 위한 용도다. 과적합이 되고 있는지 판단하거나 하이퍼파라미터(초매개변수)의 조정을 위한 용도다. \r\n",
    "\r\n",
    "1. 하이퍼파라미터 : 사용자가 직접 정해줄 수 있는 변수 \r\n",
    "- learning rate, 은닉층의 수, 뉴런의 수, 드롭아웃 비율 등  \r\n",
    "- 사람이 정하는 변수 </n>\r\n",
    "2. 매개변수 : 가중치와 편향과 같은 학습을 통해 바뀌어져가는 변수 \r\n",
    "- 모델이 학습하는 과정에서 얻어지는 값 \r\n",
    "- 기계가 훈련을 통해서 바꾸는 변수</n>\r\n",
    "\r\n",
    "train = 문제지\r\n",
    "val = 모의고사\r\n",
    "test = 수능 시험\r\n",
    "\r\n"
   ],
   "metadata": {}
  },
  {
   "cell_type": "markdown",
   "source": [
    "# 2. 분류와 회귀\r\n",
    "\r\n",
    "### 1) 이진 분류 문제 : 둘 중 하나의 답을 정하는 문제\r\n",
    "### 2) 다중 분류 문제 : 세 개 이상의 정해진 선택지 중에서 답을 정하는 문제\r\n",
    "### 3) 회귀 문제 : 연속된 값을 결과로 가진다. 주가예측, 생산량 예측, 지수 예측 등이 이에 속한다.\r\n",
    "\r\n"
   ],
   "metadata": {}
  },
  {
   "cell_type": "markdown",
   "source": [],
   "metadata": {}
  }
 ],
 "metadata": {
  "orig_nbformat": 4,
  "language_info": {
   "name": "python",
   "version": "3.8.5",
   "mimetype": "text/x-python",
   "codemirror_mode": {
    "name": "ipython",
    "version": 3
   },
   "pygments_lexer": "ipython3",
   "nbconvert_exporter": "python",
   "file_extension": ".py"
  },
  "kernelspec": {
   "name": "python3",
   "display_name": "Python 3.8.5 64-bit ('chch': conda)"
  },
  "interpreter": {
   "hash": "a64de8b745ab094eb3381810b1d090f0053b4977cc21c07d5a367fb401258f96"
  }
 },
 "nbformat": 4,
 "nbformat_minor": 2
}