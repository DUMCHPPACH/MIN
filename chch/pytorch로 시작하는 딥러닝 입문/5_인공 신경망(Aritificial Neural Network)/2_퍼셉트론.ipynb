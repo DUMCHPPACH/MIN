{
 "cells": [
  {
   "cell_type": "markdown",
   "source": [
    "# 2. Perceptron\r\n",
    "\r\n",
    "퍼셉트론(Perceptron)은 프랑크 로젠블라트(Frank Rosenblatt)가 1957년에 제안한 초기 형태의 인공 신경망으로 다수의 입력으로부터 하나의 결과를 내보내는 알고리즘\r\n",
    "\r\n",
    "<img src=\"https://wikidocs.net/images/page/24958/perceptrin1_final.PNG\" width=\"200\" height=\"200\"> \r\n",
    "\r\n",
    "x는 입력값, w는 가중치, y는 출력값\r\n",
    "각각의 입력값에는 각각의 가중치가 존재하는데, 이때 가중치의 값이 크면 클수록 해당 입력 값이 중요하다는 것을 의미한다.\r\n",
    "\r\n",
    "<img src=\"https://wikidocs.net/images/page/24958/perceptron2_final.PNG\" width=\"200\" height=\"200\"> \r\n",
    "\r\n",
    "편의상 편향b가 그림이나 수식에서 생략되서 표현되기도 하지만 실제로는 편향b 또한 딥 러닝이 최적의 값을 찾아야 할 변수 중 하나이다.\r\n",
    "\r\n",
    "뉴런에서 출력값을 변경시키는 함수를 활성화 함수(Activation Function)라고 한다."
   ],
   "metadata": {}
  },
  {
   "cell_type": "markdown",
   "source": [
    "## 2. 단층 퍼셉트론\r\n",
    "\r\n",
    "<img src=\"https://wikidocs.net/images/page/24958/perceptron3_final.PNG\" width=\"200\" height=\"200\"> \r\n",
    "\r\n",
    "단층 퍼셉트론을 이용하면  AND, NAND, OR 게이트를 쉽게 구현할 수 있다.\r\n",
    "\r\n"
   ],
   "metadata": {}
  },
  {
   "cell_type": "code",
   "execution_count": 1,
   "source": [
    "# 오직 두 개의 입력값이 1인 경우에만 1을 출력\r\n",
    "def AND_gate(x1, x2):\r\n",
    "    w1=0.5\r\n",
    "    w2=0.5\r\n",
    "    b=-0.7\r\n",
    "    result = x1*w1 + x2*w2 + b\r\n",
    "    if result <= 0:\r\n",
    "        return 0\r\n",
    "    else:\r\n",
    "        return 1\r\n",
    "\r\n",
    "\r\n",
    "AND_gate(0, 0), AND_gate(0, 1), AND_gate(1, 0), AND_gate(1, 1)"
   ],
   "outputs": [
    {
     "output_type": "execute_result",
     "data": {
      "text/plain": [
       "(0, 0, 0, 1)"
      ]
     },
     "metadata": {},
     "execution_count": 1
    }
   ],
   "metadata": {}
  },
  {
   "cell_type": "code",
   "execution_count": 2,
   "source": [
    "# 두 개의 입력값이 1인 경우에만 출력값이 0, 나머지 입력값의 쌍(pair)에 대해서는 모두 출력값이 1\r\n",
    "def NAND_gate(x1, x2):\r\n",
    "    w1=-0.5\r\n",
    "    w2=-0.5\r\n",
    "    b=0.7\r\n",
    "    result = x1*w1 + x2*w2 + b\r\n",
    "    if result <= 0:\r\n",
    "        return 0\r\n",
    "    else:\r\n",
    "        return 1\r\n",
    "\r\n",
    "NAND_gate(0, 0), NAND_gate(0, 1), NAND_gate(1, 0), NAND_gate(1, 1)"
   ],
   "outputs": [
    {
     "output_type": "execute_result",
     "data": {
      "text/plain": [
       "(1, 1, 1, 0)"
      ]
     },
     "metadata": {},
     "execution_count": 2
    }
   ],
   "metadata": {}
  }
 ],
 "metadata": {
  "orig_nbformat": 4,
  "language_info": {
   "name": "python",
   "version": "3.8.5",
   "mimetype": "text/x-python",
   "codemirror_mode": {
    "name": "ipython",
    "version": 3
   },
   "pygments_lexer": "ipython3",
   "nbconvert_exporter": "python",
   "file_extension": ".py"
  },
  "kernelspec": {
   "name": "python3",
   "display_name": "Python 3.8.5 64-bit ('chch': conda)"
  },
  "interpreter": {
   "hash": "a64de8b745ab094eb3381810b1d090f0053b4977cc21c07d5a367fb401258f96"
  }
 },
 "nbformat": 4,
 "nbformat_minor": 2
}