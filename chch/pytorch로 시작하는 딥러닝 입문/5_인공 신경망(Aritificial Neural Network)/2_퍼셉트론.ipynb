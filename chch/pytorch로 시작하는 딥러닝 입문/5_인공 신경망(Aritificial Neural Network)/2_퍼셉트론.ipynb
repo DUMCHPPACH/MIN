{
 "cells": [
  {
   "cell_type": "markdown",
   "source": [
    "# 2. Perceptron\r\n",
    "\r\n",
    "퍼셉트론(Perceptron)은 프랑크 로젠블라트(Frank Rosenblatt)가 1957년에 제안한 초기 형태의 인공 신경망으로 다수의 입력으로부터 하나의 결과를 내보내는 알고리즘\r\n",
    "\r\n",
    "<img src=\"https://wikidocs.net/images/page/24958/perceptrin1_final.PNG\" width=\"200\" height=\"200\"> \r\n",
    "\r\n",
    "x는 입력값, w는 가중치, y는 출력값\r\n",
    "각각의 입력값에는 각각의 가중치가 존재하는데, 이때 가중치의 값이 크면 클수록 해당 입력 값이 중요하다는 것을 의미한다.\r\n",
    "\r\n",
    "<img src=\"https://wikidocs.net/images/page/24958/perceptron2_final.PNG\" width=\"200\" height=\"200\"> \r\n",
    "\r\n",
    "편의상 편향b가 그림이나 수식에서 생략되서 표현되기도 하지만 실제로는 편향b 또한 딥 러닝이 최적의 값을 찾아야 할 변수 중 하나이다.\r\n",
    "\r\n",
    "뉴런에서 출력값을 변경시키는 함수를 활성화 함수(Activation Function)라고 한다."
   ],
   "metadata": {}
  },
  {
   "cell_type": "code",
   "execution_count": null,
   "source": [],
   "outputs": [],
   "metadata": {}
  }
 ],
 "metadata": {
  "orig_nbformat": 4,
  "language_info": {
   "name": "python"
  }
 },
 "nbformat": 4,
 "nbformat_minor": 2
}