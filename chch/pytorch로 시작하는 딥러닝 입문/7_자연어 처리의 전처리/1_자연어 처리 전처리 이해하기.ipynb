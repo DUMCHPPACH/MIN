{
 "cells": [
  {
   "cell_type": "markdown",
   "source": [
    "# 1. 토큰화(Tokenization) :주어진 텍스트를 단어 또는 문자 단위로 자르는 것\r\n"
   ],
   "metadata": {}
  },
  {
   "cell_type": "markdown",
   "source": [
    "## 1. spaCy 사용하기"
   ],
   "metadata": {}
  },
  {
   "cell_type": "code",
   "execution_count": 90,
   "source": [
    "# !pip install -U spacy\r\n",
    "# !python -m spacy download en"
   ],
   "outputs": [
    {
     "output_type": "stream",
     "name": "stdout",
     "text": [
      "Requirement already satisfied: spacy in c:\\users\\sswwd\\anaconda3\\envs\\chch\\lib\\site-packages (3.1.2)\n",
      "Requirement already satisfied: blis<0.8.0,>=0.4.0 in c:\\users\\sswwd\\anaconda3\\envs\\chch\\lib\\site-packages (from spacy) (0.7.4)\n",
      "Requirement already satisfied: srsly<3.0.0,>=2.4.1 in c:\\users\\sswwd\\anaconda3\\envs\\chch\\lib\\site-packages (from spacy) (2.4.1)\n",
      "Requirement already satisfied: murmurhash<1.1.0,>=0.28.0 in c:\\users\\sswwd\\anaconda3\\envs\\chch\\lib\\site-packages (from spacy) (1.0.5)\n",
      "Requirement already satisfied: requests<3.0.0,>=2.13.0 in c:\\users\\sswwd\\anaconda3\\envs\\chch\\lib\\site-packages (from spacy) (2.26.0)\n",
      "Requirement already satisfied: setuptools in c:\\users\\sswwd\\anaconda3\\envs\\chch\\lib\\site-packages (from spacy) (58.0.4)\n",
      "Requirement already satisfied: packaging>=20.0 in c:\\users\\sswwd\\anaconda3\\envs\\chch\\lib\\site-packages (from spacy) (21.0)\n",
      "Requirement already satisfied: pydantic!=1.8,!=1.8.1,<1.9.0,>=1.7.4 in c:\\users\\sswwd\\anaconda3\\envs\\chch\\lib\\site-packages (from spacy) (1.8.2)\n",
      "Requirement already satisfied: preshed<3.1.0,>=3.0.2 in c:\\users\\sswwd\\anaconda3\\envs\\chch\\lib\\site-packages (from spacy) (3.0.5)\n",
      "Requirement already satisfied: wasabi<1.1.0,>=0.8.1 in c:\\users\\sswwd\\anaconda3\\envs\\chch\\lib\\site-packages (from spacy) (0.8.2)\n",
      "Requirement already satisfied: cymem<2.1.0,>=2.0.2 in c:\\users\\sswwd\\anaconda3\\envs\\chch\\lib\\site-packages (from spacy) (2.0.5)\n",
      "Requirement already satisfied: tqdm<5.0.0,>=4.38.0 in c:\\users\\sswwd\\anaconda3\\envs\\chch\\lib\\site-packages (from spacy) (4.62.2)\n",
      "Requirement already satisfied: numpy>=1.15.0 in c:\\users\\sswwd\\anaconda3\\envs\\chch\\lib\\site-packages (from spacy) (1.21.2)\n",
      "Requirement already satisfied: pathy>=0.3.5 in c:\\users\\sswwd\\anaconda3\\envs\\chch\\lib\\site-packages (from spacy) (0.6.0)\n",
      "Requirement already satisfied: thinc<8.1.0,>=8.0.8 in c:\\users\\sswwd\\anaconda3\\envs\\chch\\lib\\site-packages (from spacy) (8.0.10)\n",
      "Requirement already satisfied: spacy-legacy<3.1.0,>=3.0.7 in c:\\users\\sswwd\\anaconda3\\envs\\chch\\lib\\site-packages (from spacy) (3.0.8)\n",
      "Requirement already satisfied: jinja2 in c:\\users\\sswwd\\anaconda3\\envs\\chch\\lib\\site-packages (from spacy) (3.0.1)\n",
      "Requirement already satisfied: typer<0.4.0,>=0.3.0 in c:\\users\\sswwd\\anaconda3\\envs\\chch\\lib\\site-packages (from spacy) (0.3.2)\n",
      "Requirement already satisfied: catalogue<2.1.0,>=2.0.4 in c:\\users\\sswwd\\anaconda3\\envs\\chch\\lib\\site-packages (from spacy) (2.0.6)\n",
      "Requirement already satisfied: pyparsing>=2.0.2 in c:\\users\\sswwd\\anaconda3\\envs\\chch\\lib\\site-packages (from packaging>=20.0->spacy) (2.4.7)\n",
      "Requirement already satisfied: smart-open<6.0.0,>=5.0.0 in c:\\users\\sswwd\\anaconda3\\envs\\chch\\lib\\site-packages (from pathy>=0.3.5->spacy) (5.2.1)\n",
      "Requirement already satisfied: typing-extensions>=3.7.4.3 in c:\\users\\sswwd\\anaconda3\\envs\\chch\\lib\\site-packages (from pydantic!=1.8,!=1.8.1,<1.9.0,>=1.7.4->spacy) (3.10.0.2)\n",
      "Requirement already satisfied: certifi>=2017.4.17 in c:\\users\\sswwd\\anaconda3\\envs\\chch\\lib\\site-packages (from requests<3.0.0,>=2.13.0->spacy) (2021.5.30)\n",
      "Requirement already satisfied: urllib3<1.27,>=1.21.1 in c:\\users\\sswwd\\anaconda3\\envs\\chch\\lib\\site-packages (from requests<3.0.0,>=2.13.0->spacy) (1.26.6)\n",
      "Requirement already satisfied: charset-normalizer~=2.0.0 in c:\\users\\sswwd\\anaconda3\\envs\\chch\\lib\\site-packages (from requests<3.0.0,>=2.13.0->spacy) (2.0.6)\n",
      "Requirement already satisfied: idna<4,>=2.5 in c:\\users\\sswwd\\anaconda3\\envs\\chch\\lib\\site-packages (from requests<3.0.0,>=2.13.0->spacy) (3.2)\n",
      "Requirement already satisfied: colorama in c:\\users\\sswwd\\anaconda3\\envs\\chch\\lib\\site-packages (from tqdm<5.0.0,>=4.38.0->spacy) (0.4.4)\n",
      "Requirement already satisfied: click<7.2.0,>=7.1.1 in c:\\users\\sswwd\\anaconda3\\envs\\chch\\lib\\site-packages (from typer<0.4.0,>=0.3.0->spacy) (7.1.2)\n",
      "Requirement already satisfied: MarkupSafe>=2.0 in c:\\users\\sswwd\\anaconda3\\envs\\chch\\lib\\site-packages (from jinja2->spacy) (2.0.1)\n",
      "⚠ As of spaCy v3.0, shortcuts like 'en' are deprecated. Please use the full\n",
      "pipeline package name 'en_core_web_sm' instead.\n",
      "Collecting en-core-web-sm==3.1.0\n",
      "  Using cached https://github.com/explosion/spacy-models/releases/download/en_core_web_sm-3.1.0/en_core_web_sm-3.1.0-py3-none-any.whl (13.6 MB)\n",
      "Requirement already satisfied: spacy<3.2.0,>=3.1.0 in c:\\users\\sswwd\\anaconda3\\envs\\chch\\lib\\site-packages (from en-core-web-sm==3.1.0) (3.1.2)\n",
      "Requirement already satisfied: pydantic!=1.8,!=1.8.1,<1.9.0,>=1.7.4 in c:\\users\\sswwd\\anaconda3\\envs\\chch\\lib\\site-packages (from spacy<3.2.0,>=3.1.0->en-core-web-sm==3.1.0) (1.8.2)\n",
      "Requirement already satisfied: murmurhash<1.1.0,>=0.28.0 in c:\\users\\sswwd\\anaconda3\\envs\\chch\\lib\\site-packages (from spacy<3.2.0,>=3.1.0->en-core-web-sm==3.1.0) (1.0.5)\n",
      "Requirement already satisfied: requests<3.0.0,>=2.13.0 in c:\\users\\sswwd\\anaconda3\\envs\\chch\\lib\\site-packages (from spacy<3.2.0,>=3.1.0->en-core-web-sm==3.1.0) (2.26.0)\n",
      "Requirement already satisfied: numpy>=1.15.0 in c:\\users\\sswwd\\anaconda3\\envs\\chch\\lib\\site-packages (from spacy<3.2.0,>=3.1.0->en-core-web-sm==3.1.0) (1.21.2)\n",
      "Requirement already satisfied: setuptools in c:\\users\\sswwd\\anaconda3\\envs\\chch\\lib\\site-packages (from spacy<3.2.0,>=3.1.0->en-core-web-sm==3.1.0) (58.0.4)\n",
      "Requirement already satisfied: srsly<3.0.0,>=2.4.1 in c:\\users\\sswwd\\anaconda3\\envs\\chch\\lib\\site-packages (from spacy<3.2.0,>=3.1.0->en-core-web-sm==3.1.0) (2.4.1)\n",
      "Requirement already satisfied: catalogue<2.1.0,>=2.0.4 in c:\\users\\sswwd\\anaconda3\\envs\\chch\\lib\\site-packages (from spacy<3.2.0,>=3.1.0->en-core-web-sm==3.1.0) (2.0.6)\n",
      "Requirement already satisfied: cymem<2.1.0,>=2.0.2 in c:\\users\\sswwd\\anaconda3\\envs\\chch\\lib\\site-packages (from spacy<3.2.0,>=3.1.0->en-core-web-sm==3.1.0) (2.0.5)\n",
      "Requirement already satisfied: jinja2 in c:\\users\\sswwd\\anaconda3\\envs\\chch\\lib\\site-packages (from spacy<3.2.0,>=3.1.0->en-core-web-sm==3.1.0) (3.0.1)\n",
      "Requirement already satisfied: thinc<8.1.0,>=8.0.8 in c:\\users\\sswwd\\anaconda3\\envs\\chch\\lib\\site-packages (from spacy<3.2.0,>=3.1.0->en-core-web-sm==3.1.0) (8.0.10)\n",
      "Requirement already satisfied: tqdm<5.0.0,>=4.38.0 in c:\\users\\sswwd\\anaconda3\\envs\\chch\\lib\\site-packages (from spacy<3.2.0,>=3.1.0->en-core-web-sm==3.1.0) (4.62.2)\n",
      "Requirement already satisfied: packaging>=20.0 in c:\\users\\sswwd\\anaconda3\\envs\\chch\\lib\\site-packages (from spacy<3.2.0,>=3.1.0->en-core-web-sm==3.1.0) (21.0)\n",
      "Requirement already satisfied: preshed<3.1.0,>=3.0.2 in c:\\users\\sswwd\\anaconda3\\envs\\chch\\lib\\site-packages (from spacy<3.2.0,>=3.1.0->en-core-web-sm==3.1.0) (3.0.5)\n",
      "Requirement already satisfied: typer<0.4.0,>=0.3.0 in c:\\users\\sswwd\\anaconda3\\envs\\chch\\lib\\site-packages (from spacy<3.2.0,>=3.1.0->en-core-web-sm==3.1.0) (0.3.2)\n",
      "Requirement already satisfied: blis<0.8.0,>=0.4.0 in c:\\users\\sswwd\\anaconda3\\envs\\chch\\lib\\site-packages (from spacy<3.2.0,>=3.1.0->en-core-web-sm==3.1.0) (0.7.4)\n",
      "Requirement already satisfied: wasabi<1.1.0,>=0.8.1 in c:\\users\\sswwd\\anaconda3\\envs\\chch\\lib\\site-packages (from spacy<3.2.0,>=3.1.0->en-core-web-sm==3.1.0) (0.8.2)\n",
      "Requirement already satisfied: spacy-legacy<3.1.0,>=3.0.7 in c:\\users\\sswwd\\anaconda3\\envs\\chch\\lib\\site-packages (from spacy<3.2.0,>=3.1.0->en-core-web-sm==3.1.0) (3.0.8)\n",
      "Requirement already satisfied: pathy>=0.3.5 in c:\\users\\sswwd\\anaconda3\\envs\\chch\\lib\\site-packages (from spacy<3.2.0,>=3.1.0->en-core-web-sm==3.1.0) (0.6.0)\n",
      "Requirement already satisfied: pyparsing>=2.0.2 in c:\\users\\sswwd\\anaconda3\\envs\\chch\\lib\\site-packages (from packaging>=20.0->spacy<3.2.0,>=3.1.0->en-core-web-sm==3.1.0) (2.4.7)\n",
      "Requirement already satisfied: smart-open<6.0.0,>=5.0.0 in c:\\users\\sswwd\\anaconda3\\envs\\chch\\lib\\site-packages (from pathy>=0.3.5->spacy<3.2.0,>=3.1.0->en-core-web-sm==3.1.0) (5.2.1)\n",
      "Requirement already satisfied: typing-extensions>=3.7.4.3 in c:\\users\\sswwd\\anaconda3\\envs\\chch\\lib\\site-packages (from pydantic!=1.8,!=1.8.1,<1.9.0,>=1.7.4->spacy<3.2.0,>=3.1.0->en-core-web-sm==3.1.0) (3.10.0.2)\n",
      "Requirement already satisfied: idna<4,>=2.5 in c:\\users\\sswwd\\anaconda3\\envs\\chch\\lib\\site-packages (from requests<3.0.0,>=2.13.0->spacy<3.2.0,>=3.1.0->en-core-web-sm==3.1.0) (3.2)\n",
      "Requirement already satisfied: certifi>=2017.4.17 in c:\\users\\sswwd\\anaconda3\\envs\\chch\\lib\\site-packages (from requests<3.0.0,>=2.13.0->spacy<3.2.0,>=3.1.0->en-core-web-sm==3.1.0) (2021.5.30)\n",
      "Requirement already satisfied: charset-normalizer~=2.0.0 in c:\\users\\sswwd\\anaconda3\\envs\\chch\\lib\\site-packages (from requests<3.0.0,>=2.13.0->spacy<3.2.0,>=3.1.0->en-core-web-sm==3.1.0) (2.0.6)\n",
      "Requirement already satisfied: urllib3<1.27,>=1.21.1 in c:\\users\\sswwd\\anaconda3\\envs\\chch\\lib\\site-packages (from requests<3.0.0,>=2.13.0->spacy<3.2.0,>=3.1.0->en-core-web-sm==3.1.0) (1.26.6)\n",
      "Requirement already satisfied: colorama in c:\\users\\sswwd\\anaconda3\\envs\\chch\\lib\\site-packages (from tqdm<5.0.0,>=4.38.0->spacy<3.2.0,>=3.1.0->en-core-web-sm==3.1.0) (0.4.4)\n",
      "Requirement already satisfied: click<7.2.0,>=7.1.1 in c:\\users\\sswwd\\anaconda3\\envs\\chch\\lib\\site-packages (from typer<0.4.0,>=0.3.0->spacy<3.2.0,>=3.1.0->en-core-web-sm==3.1.0) (7.1.2)\n",
      "Requirement already satisfied: MarkupSafe>=2.0 in c:\\users\\sswwd\\anaconda3\\envs\\chch\\lib\\site-packages (from jinja2->spacy<3.2.0,>=3.1.0->en-core-web-sm==3.1.0) (2.0.1)\n",
      "✔ Download and installation successful\n",
      "You can now load the package via spacy.load('en_core_web_sm')\n"
     ]
    }
   ],
   "metadata": {}
  },
  {
   "cell_type": "code",
   "execution_count": 91,
   "source": [
    "en_text = \"A Dog Run back corner near spare bedrooms\"\r\n",
    "import spacy\r\n",
    "spacy_en = spacy.load('en_core_web_sm')\r\n",
    "def tokenize(en_text):\r\n",
    "    return [tok.text for tok in spacy_en.tokenizer(en_text)]\r\n",
    "\r\n",
    "print(tokenize(en_text))\r\n",
    "\r\n"
   ],
   "outputs": [
    {
     "output_type": "stream",
     "name": "stdout",
     "text": [
      "['A', 'Dog', 'Run', 'back', 'corner', 'near', 'spare', 'bedrooms']\n"
     ]
    }
   ],
   "metadata": {}
  },
  {
   "cell_type": "markdown",
   "source": [
    "## 2. NLTK 사용하기"
   ],
   "metadata": {}
  },
  {
   "cell_type": "code",
   "execution_count": 92,
   "source": [
    "# !pip install nltk"
   ],
   "outputs": [
    {
     "output_type": "stream",
     "name": "stdout",
     "text": [
      "Requirement already satisfied: nltk in c:\\users\\sswwd\\anaconda3\\envs\\chch\\lib\\site-packages (3.6.3)\n",
      "Requirement already satisfied: regex in c:\\users\\sswwd\\anaconda3\\envs\\chch\\lib\\site-packages (from nltk) (2021.8.28)\n",
      "Requirement already satisfied: click in c:\\users\\sswwd\\anaconda3\\envs\\chch\\lib\\site-packages (from nltk) (7.1.2)\n",
      "Requirement already satisfied: joblib in c:\\users\\sswwd\\anaconda3\\envs\\chch\\lib\\site-packages (from nltk) (1.0.1)\n",
      "Requirement already satisfied: tqdm in c:\\users\\sswwd\\anaconda3\\envs\\chch\\lib\\site-packages (from nltk) (4.62.2)\n",
      "Requirement already satisfied: colorama in c:\\users\\sswwd\\anaconda3\\envs\\chch\\lib\\site-packages (from tqdm->nltk) (0.4.4)\n"
     ]
    }
   ],
   "metadata": {}
  },
  {
   "cell_type": "code",
   "execution_count": 93,
   "source": [
    "import nltk\r\n",
    "nltk.download('punkt')\r\n",
    "\r\n",
    "from nltk.tokenize import word_tokenize\r\n",
    "print(word_tokenize(en_text))"
   ],
   "outputs": [
    {
     "output_type": "stream",
     "name": "stdout",
     "text": [
      "['A', 'Dog', 'Run', 'back', 'corner', 'near', 'spare', 'bedrooms']\n"
     ]
    },
    {
     "output_type": "stream",
     "name": "stderr",
     "text": [
      "[nltk_data] Downloading package punkt to\n",
      "[nltk_data]     C:\\Users\\sswwd\\AppData\\Roaming\\nltk_data...\n",
      "[nltk_data]   Package punkt is already up-to-date!\n"
     ]
    }
   ],
   "metadata": {}
  },
  {
   "cell_type": "markdown",
   "source": [
    "## 3. 띄어쓰기로 토큰화"
   ],
   "metadata": {}
  },
  {
   "cell_type": "code",
   "execution_count": 94,
   "source": [
    "print(en_text.split())"
   ],
   "outputs": [
    {
     "output_type": "stream",
     "name": "stdout",
     "text": [
      "['A', 'Dog', 'Run', 'back', 'corner', 'near', 'spare', 'bedrooms']\n"
     ]
    }
   ],
   "metadata": {}
  },
  {
   "cell_type": "markdown",
   "source": [
    "한국어는 조사, 접사 등으로 인해 단순 띄어쓰기 단위로 나누면 같은 단어가 다른 단어로 인식되어서 단어 집합(vocabulary)의 크기가 불필요하게 커지기 때문에 토큰화 작업이 까다롭다.\r\n",
    "\r\n",
    "* 단어 집합(vocabuary)이란 중복을 제거한 텍스트의 총 단어의 집합(set)을 의미합니다.\r\n",
    "\r\n",
    "예를 들어 단어 '사과'가 많이 들어간 어떤 문장에 띄어쓰기 토큰화를 한다면 '사과가', '사과를', '사과의', '사과와', '사과는'과 같은 식으로 같은 단어임에도 조사가 붙어서 다른 단어로 인식될 수 있습니다. "
   ],
   "metadata": {}
  },
  {
   "cell_type": "markdown",
   "source": [
    "## 4. 한국어 띄어쓰기 토큰화"
   ],
   "metadata": {}
  },
  {
   "cell_type": "code",
   "execution_count": 95,
   "source": [
    "print(kor_text.split())"
   ],
   "outputs": [
    {
     "output_type": "stream",
     "name": "stdout",
     "text": [
      "['사과의', '놀라운', '효능이라는', '글을', '봤어.', '그래서', '오늘', '사과를', '먹으려고', '했는데', '사과가', '썩어서', '슈퍼에', '가서', '사과랑', '오렌지', '사왔어']\n"
     ]
    }
   ],
   "metadata": {}
  },
  {
   "cell_type": "markdown",
   "source": [
    "'사과'란 단어가 총 4번 등장했는데 모두 '의', '를', '가', '랑' 등이 붙어있어 이를 제거해주지 않으면 기계는 전부 다른 단어로 인식"
   ],
   "metadata": {}
  },
  {
   "cell_type": "markdown",
   "source": [
    "## 5. 형태소 토큰화\r\n",
    "한국어 특성에 맞게 형태소 분석기로 토근화를 한다."
   ],
   "metadata": {}
  },
  {
   "cell_type": "markdown",
   "source": [
    "https://uwgdqo.tistory.com/363 \r\n",
    "그대로 따라해서 macab 설치"
   ],
   "metadata": {}
  },
  {
   "cell_type": "code",
   "execution_count": 96,
   "source": [
    "# !pip install konlpy"
   ],
   "outputs": [
    {
     "output_type": "stream",
     "name": "stdout",
     "text": [
      "Requirement already satisfied: konlpy in c:\\users\\sswwd\\anaconda3\\envs\\chch\\lib\\site-packages (0.5.2)\n",
      "Requirement already satisfied: beautifulsoup4==4.6.0 in c:\\users\\sswwd\\anaconda3\\envs\\chch\\lib\\site-packages (from konlpy) (4.6.0)\n",
      "Requirement already satisfied: JPype1>=0.7.0 in c:\\users\\sswwd\\anaconda3\\envs\\chch\\lib\\site-packages (from konlpy) (1.3.0)\n",
      "Requirement already satisfied: numpy>=1.6 in c:\\users\\sswwd\\anaconda3\\envs\\chch\\lib\\site-packages (from konlpy) (1.21.2)\n",
      "Requirement already satisfied: tweepy>=3.7.0 in c:\\users\\sswwd\\anaconda3\\envs\\chch\\lib\\site-packages (from konlpy) (3.10.0)\n",
      "Requirement already satisfied: lxml>=4.1.0 in c:\\users\\sswwd\\anaconda3\\envs\\chch\\lib\\site-packages (from konlpy) (4.6.3)\n",
      "Requirement already satisfied: colorama in c:\\users\\sswwd\\anaconda3\\envs\\chch\\lib\\site-packages (from konlpy) (0.4.4)\n",
      "Requirement already satisfied: requests[socks]>=2.11.1 in c:\\users\\sswwd\\anaconda3\\envs\\chch\\lib\\site-packages (from tweepy>=3.7.0->konlpy) (2.26.0)\n",
      "Requirement already satisfied: six>=1.10.0 in c:\\users\\sswwd\\anaconda3\\envs\\chch\\lib\\site-packages (from tweepy>=3.7.0->konlpy) (1.16.0)\n",
      "Requirement already satisfied: requests-oauthlib>=0.7.0 in c:\\users\\sswwd\\anaconda3\\envs\\chch\\lib\\site-packages (from tweepy>=3.7.0->konlpy) (1.3.0)\n",
      "Requirement already satisfied: oauthlib>=3.0.0 in c:\\users\\sswwd\\anaconda3\\envs\\chch\\lib\\site-packages (from requests-oauthlib>=0.7.0->tweepy>=3.7.0->konlpy) (3.1.1)\n",
      "Requirement already satisfied: certifi>=2017.4.17 in c:\\users\\sswwd\\anaconda3\\envs\\chch\\lib\\site-packages (from requests[socks]>=2.11.1->tweepy>=3.7.0->konlpy) (2021.5.30)\n",
      "Requirement already satisfied: charset-normalizer~=2.0.0 in c:\\users\\sswwd\\anaconda3\\envs\\chch\\lib\\site-packages (from requests[socks]>=2.11.1->tweepy>=3.7.0->konlpy) (2.0.6)\n",
      "Requirement already satisfied: urllib3<1.27,>=1.21.1 in c:\\users\\sswwd\\anaconda3\\envs\\chch\\lib\\site-packages (from requests[socks]>=2.11.1->tweepy>=3.7.0->konlpy) (1.26.6)\n",
      "Requirement already satisfied: idna<4,>=2.5 in c:\\users\\sswwd\\anaconda3\\envs\\chch\\lib\\site-packages (from requests[socks]>=2.11.1->tweepy>=3.7.0->konlpy) (3.2)\n",
      "Requirement already satisfied: PySocks!=1.5.7,>=1.5.6 in c:\\users\\sswwd\\anaconda3\\envs\\chch\\lib\\site-packages (from requests[socks]>=2.11.1->tweepy>=3.7.0->konlpy) (1.7.1)\n"
     ]
    }
   ],
   "metadata": {}
  },
  {
   "cell_type": "code",
   "execution_count": 97,
   "source": [
    "from konlpy.tag import Mecab\r\n",
    "mecab = Mecab(dicpath=r\"C:/mecab/mecab-ko-dic\")\r\n",
    "\r\n",
    "kor_text = \"사과의 놀라운 효능이라는 글을 봤어. 그래서 오늘 사과를 먹으려고 했는데 사과가 썩어서 슈퍼에 가서 사과랑 오렌지 사왔어\"\r\n",
    "\r\n",
    "print(mecab.morphs(kor_text))"
   ],
   "outputs": [
    {
     "output_type": "stream",
     "name": "stdout",
     "text": [
      "['사과', '의', '놀라운', '효능', '이', '라는', '글', '을', '봤', '어', '.', '그래서', '오늘', '사과', '를', '먹', '으려고', '했', '는데', '사과', '가', '썩', '어서', '슈퍼', '에', '가', '서', '사과', '랑', '오렌지', '사', '왔', '어']\n"
     ]
    }
   ],
   "metadata": {}
  },
  {
   "cell_type": "markdown",
   "source": [
    "단어 단위가 아닌 더 작은 문자 단위로도 토큰화 할 수 있다.\r\n"
   ],
   "metadata": {}
  },
  {
   "cell_type": "code",
   "execution_count": 98,
   "source": [
    "print(list(en_text))\r\n",
    "print(list(kor_text))"
   ],
   "outputs": [
    {
     "output_type": "stream",
     "name": "stdout",
     "text": [
      "['A', ' ', 'D', 'o', 'g', ' ', 'R', 'u', 'n', ' ', 'b', 'a', 'c', 'k', ' ', 'c', 'o', 'r', 'n', 'e', 'r', ' ', 'n', 'e', 'a', 'r', ' ', 's', 'p', 'a', 'r', 'e', ' ', 'b', 'e', 'd', 'r', 'o', 'o', 'm', 's']\n",
      "['사', '과', '의', ' ', '놀', '라', '운', ' ', '효', '능', '이', '라', '는', ' ', '글', '을', ' ', '봤', '어', '.', ' ', '그', '래', '서', ' ', '오', '늘', ' ', '사', '과', '를', ' ', '먹', '으', '려', '고', ' ', '했', '는', '데', ' ', '사', '과', '가', ' ', '썩', '어', '서', ' ', '슈', '퍼', '에', ' ', '가', '서', ' ', '사', '과', '랑', ' ', '오', '렌', '지', ' ', '사', '왔', '어']\n"
     ]
    }
   ],
   "metadata": {}
  },
  {
   "cell_type": "markdown",
   "source": [
    "## 2. 단어 집합(Vocabulary) 생성"
   ],
   "metadata": {}
  },
  {
   "cell_type": "markdown",
   "source": [
    "단어 집합(vocabuary)이란 중복을 제거한 텍스트의 총 단어의 집합(set)을 의미"
   ],
   "metadata": {}
  },
  {
   "cell_type": "code",
   "execution_count": 225,
   "source": [
    "import urllib.request\r\n",
    "import pandas as pd\r\n",
    "from konlpy.tag import Mecab\r\n",
    "from nltk import FreqDist\r\n",
    "import numpy as np\r\n",
    "import matplotlib.pyplot as plt"
   ],
   "outputs": [],
   "metadata": {}
  },
  {
   "cell_type": "code",
   "execution_count": 226,
   "source": [
    "urllib.request.urlretrieve(\"https://raw.githubusercontent.com/e9t/nsmc/master/ratings.txt\", filename=\"ratings.txt\")\r\n",
    "data = pd.read_table('ratings.txt') # 데이터프레임에 저장\r\n",
    "data[:100]"
   ],
   "outputs": [
    {
     "output_type": "execute_result",
     "data": {
      "text/html": [
       "<div>\n",
       "<style scoped>\n",
       "    .dataframe tbody tr th:only-of-type {\n",
       "        vertical-align: middle;\n",
       "    }\n",
       "\n",
       "    .dataframe tbody tr th {\n",
       "        vertical-align: top;\n",
       "    }\n",
       "\n",
       "    .dataframe thead th {\n",
       "        text-align: right;\n",
       "    }\n",
       "</style>\n",
       "<table border=\"1\" class=\"dataframe\">\n",
       "  <thead>\n",
       "    <tr style=\"text-align: right;\">\n",
       "      <th></th>\n",
       "      <th>id</th>\n",
       "      <th>document</th>\n",
       "      <th>label</th>\n",
       "    </tr>\n",
       "  </thead>\n",
       "  <tbody>\n",
       "    <tr>\n",
       "      <th>0</th>\n",
       "      <td>8112052</td>\n",
       "      <td>어릴때보고 지금다시봐도 재밌어요ㅋㅋ</td>\n",
       "      <td>1</td>\n",
       "    </tr>\n",
       "    <tr>\n",
       "      <th>1</th>\n",
       "      <td>8132799</td>\n",
       "      <td>디자인을 배우는 학생으로, 외국디자이너와 그들이 일군 전통을 통해 발전해가는 문화산...</td>\n",
       "      <td>1</td>\n",
       "    </tr>\n",
       "    <tr>\n",
       "      <th>2</th>\n",
       "      <td>4655635</td>\n",
       "      <td>폴리스스토리 시리즈는 1부터 뉴까지 버릴께 하나도 없음.. 최고.</td>\n",
       "      <td>1</td>\n",
       "    </tr>\n",
       "    <tr>\n",
       "      <th>3</th>\n",
       "      <td>9251303</td>\n",
       "      <td>와.. 연기가 진짜 개쩔구나.. 지루할거라고 생각했는데 몰입해서 봤다.. 그래 이런...</td>\n",
       "      <td>1</td>\n",
       "    </tr>\n",
       "    <tr>\n",
       "      <th>4</th>\n",
       "      <td>10067386</td>\n",
       "      <td>안개 자욱한 밤하늘에 떠 있는 초승달 같은 영화.</td>\n",
       "      <td>1</td>\n",
       "    </tr>\n",
       "    <tr>\n",
       "      <th>...</th>\n",
       "      <td>...</td>\n",
       "      <td>...</td>\n",
       "      <td>...</td>\n",
       "    </tr>\n",
       "    <tr>\n",
       "      <th>95</th>\n",
       "      <td>3908729</td>\n",
       "      <td>진짜 최고다 최고 성룡형님 마이 우상</td>\n",
       "      <td>1</td>\n",
       "    </tr>\n",
       "    <tr>\n",
       "      <th>96</th>\n",
       "      <td>6318878</td>\n",
       "      <td>amy6250 당신이 좋아하는 장르는 뭐요? 이영화에도 저영화에도 이런장르는 싫다니원</td>\n",
       "      <td>1</td>\n",
       "    </tr>\n",
       "    <tr>\n",
       "      <th>97</th>\n",
       "      <td>2620222</td>\n",
       "      <td>지금까지 본영화중에 최고다</td>\n",
       "      <td>1</td>\n",
       "    </tr>\n",
       "    <tr>\n",
       "      <th>98</th>\n",
       "      <td>5954450</td>\n",
       "      <td>매회리타가자꾸거슬려서죽었으면좋겠다고생각했는데ㅠㅠ죄책감에나도잠못이룬다.</td>\n",
       "      <td>1</td>\n",
       "    </tr>\n",
       "    <tr>\n",
       "      <th>99</th>\n",
       "      <td>9754970</td>\n",
       "      <td>어릴 때보고 커서 다시 봤는데. 진짜 잘 만든 영화였네. 웃음과 감동을 잘 이어 붙...</td>\n",
       "      <td>1</td>\n",
       "    </tr>\n",
       "  </tbody>\n",
       "</table>\n",
       "<p>100 rows × 3 columns</p>\n",
       "</div>"
      ],
      "text/plain": [
       "          id                                           document  label\n",
       "0    8112052                                어릴때보고 지금다시봐도 재밌어요ㅋㅋ      1\n",
       "1    8132799  디자인을 배우는 학생으로, 외국디자이너와 그들이 일군 전통을 통해 발전해가는 문화산...      1\n",
       "2    4655635               폴리스스토리 시리즈는 1부터 뉴까지 버릴께 하나도 없음.. 최고.      1\n",
       "3    9251303  와.. 연기가 진짜 개쩔구나.. 지루할거라고 생각했는데 몰입해서 봤다.. 그래 이런...      1\n",
       "4   10067386                        안개 자욱한 밤하늘에 떠 있는 초승달 같은 영화.      1\n",
       "..       ...                                                ...    ...\n",
       "95   3908729                               진짜 최고다 최고 성룡형님 마이 우상      1\n",
       "96   6318878    amy6250 당신이 좋아하는 장르는 뭐요? 이영화에도 저영화에도 이런장르는 싫다니원      1\n",
       "97   2620222                                     지금까지 본영화중에 최고다      1\n",
       "98   5954450             매회리타가자꾸거슬려서죽었으면좋겠다고생각했는데ㅠㅠ죄책감에나도잠못이룬다.      1\n",
       "99   9754970  어릴 때보고 커서 다시 봤는데. 진짜 잘 만든 영화였네. 웃음과 감동을 잘 이어 붙...      1\n",
       "\n",
       "[100 rows x 3 columns]"
      ]
     },
     "metadata": {},
     "execution_count": 226
    }
   ],
   "metadata": {}
  },
  {
   "cell_type": "code",
   "execution_count": 227,
   "source": [
    "print('전체 샘플의 수 : {}'.format(len(data)))"
   ],
   "outputs": [
    {
     "output_type": "stream",
     "name": "stdout",
     "text": [
      "전체 샘플의 수 : 200000\n"
     ]
    }
   ],
   "metadata": {}
  },
  {
   "cell_type": "code",
   "execution_count": 228,
   "source": [
    "sample_data = data[2000:2500] # 임의로 100개만 저장\r\n",
    "sample_data"
   ],
   "outputs": [
    {
     "output_type": "execute_result",
     "data": {
      "text/html": [
       "<div>\n",
       "<style scoped>\n",
       "    .dataframe tbody tr th:only-of-type {\n",
       "        vertical-align: middle;\n",
       "    }\n",
       "\n",
       "    .dataframe tbody tr th {\n",
       "        vertical-align: top;\n",
       "    }\n",
       "\n",
       "    .dataframe thead th {\n",
       "        text-align: right;\n",
       "    }\n",
       "</style>\n",
       "<table border=\"1\" class=\"dataframe\">\n",
       "  <thead>\n",
       "    <tr style=\"text-align: right;\">\n",
       "      <th></th>\n",
       "      <th>id</th>\n",
       "      <th>document</th>\n",
       "      <th>label</th>\n",
       "    </tr>\n",
       "  </thead>\n",
       "  <tbody>\n",
       "    <tr>\n",
       "      <th>2000</th>\n",
       "      <td>9832225</td>\n",
       "      <td>끝내주고 짜임새 있는 액션과 카메라 워킹, 시리즈 중 최고였다.</td>\n",
       "      <td>1</td>\n",
       "    </tr>\n",
       "    <tr>\n",
       "      <th>2001</th>\n",
       "      <td>9434805</td>\n",
       "      <td>지금까지 12번은 넘게 본 영화입니다.우울할때 이영화를 찾게되고 기분전환이 되어 가...</td>\n",
       "      <td>1</td>\n",
       "    </tr>\n",
       "    <tr>\n",
       "      <th>2002</th>\n",
       "      <td>139278</td>\n",
       "      <td>광활한 아프리카에서 소녀의 성장기 감동 팍팍</td>\n",
       "      <td>1</td>\n",
       "    </tr>\n",
       "    <tr>\n",
       "      <th>2003</th>\n",
       "      <td>9483513</td>\n",
       "      <td>채널돌리다가 멈춘영화...스토리를 알고보는것보다 모르고보는것이 좋을듯 ... 스토리...</td>\n",
       "      <td>1</td>\n",
       "    </tr>\n",
       "    <tr>\n",
       "      <th>2004</th>\n",
       "      <td>8657623</td>\n",
       "      <td>Js(kjs7****)//아니 잠깐 판타스틱4 에서 맡았던 역할은 어떻게 설명할건데??</td>\n",
       "      <td>1</td>\n",
       "    </tr>\n",
       "    <tr>\n",
       "      <th>...</th>\n",
       "      <td>...</td>\n",
       "      <td>...</td>\n",
       "      <td>...</td>\n",
       "    </tr>\n",
       "    <tr>\n",
       "      <th>2495</th>\n",
       "      <td>168912</td>\n",
       "      <td>미키 신이치로 멋짐!</td>\n",
       "      <td>1</td>\n",
       "    </tr>\n",
       "    <tr>\n",
       "      <th>2496</th>\n",
       "      <td>1210015</td>\n",
       "      <td>치밀한 현실성.. 결과적 냉소는 더 포경선을 만선한듯 하다.</td>\n",
       "      <td>1</td>\n",
       "    </tr>\n",
       "    <tr>\n",
       "      <th>2497</th>\n",
       "      <td>10182346</td>\n",
       "      <td>행복과 삶에 대해 진지하게 생각해볼 수 있게 했던 영화 ~!</td>\n",
       "      <td>1</td>\n",
       "    </tr>\n",
       "    <tr>\n",
       "      <th>2498</th>\n",
       "      <td>353866</td>\n",
       "      <td>그래도 ㅋㅋㅋ</td>\n",
       "      <td>1</td>\n",
       "    </tr>\n",
       "    <tr>\n",
       "      <th>2499</th>\n",
       "      <td>7745297</td>\n",
       "      <td>일전에 손주녀석이 물었습니다 \"할아버지는 전쟁영웅이에요?\" 전 답했죠\"아니란다 .....</td>\n",
       "      <td>1</td>\n",
       "    </tr>\n",
       "  </tbody>\n",
       "</table>\n",
       "<p>500 rows × 3 columns</p>\n",
       "</div>"
      ],
      "text/plain": [
       "            id                                           document  label\n",
       "2000   9832225                끝내주고 짜임새 있는 액션과 카메라 워킹, 시리즈 중 최고였다.      1\n",
       "2001   9434805  지금까지 12번은 넘게 본 영화입니다.우울할때 이영화를 찾게되고 기분전환이 되어 가...      1\n",
       "2002    139278                           광활한 아프리카에서 소녀의 성장기 감동 팍팍      1\n",
       "2003   9483513  채널돌리다가 멈춘영화...스토리를 알고보는것보다 모르고보는것이 좋을듯 ... 스토리...      1\n",
       "2004   8657623   Js(kjs7****)//아니 잠깐 판타스틱4 에서 맡았던 역할은 어떻게 설명할건데??      1\n",
       "...        ...                                                ...    ...\n",
       "2495    168912                                        미키 신이치로 멋짐!      1\n",
       "2496   1210015                  치밀한 현실성.. 결과적 냉소는 더 포경선을 만선한듯 하다.      1\n",
       "2497  10182346                  행복과 삶에 대해 진지하게 생각해볼 수 있게 했던 영화 ~!      1\n",
       "2498    353866                                            그래도 ㅋㅋㅋ      1\n",
       "2499   7745297  일전에 손주녀석이 물었습니다 \"할아버지는 전쟁영웅이에요?\" 전 답했죠\"아니란다 .....      1\n",
       "\n",
       "[500 rows x 3 columns]"
      ]
     },
     "metadata": {},
     "execution_count": 228
    }
   ],
   "metadata": {}
  },
  {
   "cell_type": "code",
   "execution_count": 229,
   "source": [
    "sample_data['document'] = sample_data['document'].str.replace(\"[^ㄱ-ㅎㅏ-ㅣ가-힣 ]\",\"\")\r\n",
    "sample_data\r\n"
   ],
   "outputs": [
    {
     "output_type": "stream",
     "name": "stderr",
     "text": [
      "C:\\Users\\sswwd\\AppData\\Local\\Temp/ipykernel_18308/3811235600.py:1: FutureWarning: The default value of regex will change from True to False in a future version.\n",
      "  sample_data['document'] = sample_data['document'].str.replace(\"[^ㄱ-ㅎㅏ-ㅣ가-힣 ]\",\"\")\n",
      "C:\\Users\\sswwd\\AppData\\Local\\Temp/ipykernel_18308/3811235600.py:1: SettingWithCopyWarning: \n",
      "A value is trying to be set on a copy of a slice from a DataFrame.\n",
      "Try using .loc[row_indexer,col_indexer] = value instead\n",
      "\n",
      "See the caveats in the documentation: https://pandas.pydata.org/pandas-docs/stable/user_guide/indexing.html#returning-a-view-versus-a-copy\n",
      "  sample_data['document'] = sample_data['document'].str.replace(\"[^ㄱ-ㅎㅏ-ㅣ가-힣 ]\",\"\")\n"
     ]
    },
    {
     "output_type": "execute_result",
     "data": {
      "text/html": [
       "<div>\n",
       "<style scoped>\n",
       "    .dataframe tbody tr th:only-of-type {\n",
       "        vertical-align: middle;\n",
       "    }\n",
       "\n",
       "    .dataframe tbody tr th {\n",
       "        vertical-align: top;\n",
       "    }\n",
       "\n",
       "    .dataframe thead th {\n",
       "        text-align: right;\n",
       "    }\n",
       "</style>\n",
       "<table border=\"1\" class=\"dataframe\">\n",
       "  <thead>\n",
       "    <tr style=\"text-align: right;\">\n",
       "      <th></th>\n",
       "      <th>id</th>\n",
       "      <th>document</th>\n",
       "      <th>label</th>\n",
       "    </tr>\n",
       "  </thead>\n",
       "  <tbody>\n",
       "    <tr>\n",
       "      <th>2000</th>\n",
       "      <td>9832225</td>\n",
       "      <td>끝내주고 짜임새 있는 액션과 카메라 워킹 시리즈 중 최고였다</td>\n",
       "      <td>1</td>\n",
       "    </tr>\n",
       "    <tr>\n",
       "      <th>2001</th>\n",
       "      <td>9434805</td>\n",
       "      <td>지금까지 번은 넘게 본 영화입니다우울할때 이영화를 찾게되고 기분전환이 되어 가끔 찾...</td>\n",
       "      <td>1</td>\n",
       "    </tr>\n",
       "    <tr>\n",
       "      <th>2002</th>\n",
       "      <td>139278</td>\n",
       "      <td>광활한 아프리카에서 소녀의 성장기 감동 팍팍</td>\n",
       "      <td>1</td>\n",
       "    </tr>\n",
       "    <tr>\n",
       "      <th>2003</th>\n",
       "      <td>9483513</td>\n",
       "      <td>채널돌리다가 멈춘영화스토리를 알고보는것보다 모르고보는것이 좋을듯  스토리와 연기에 ...</td>\n",
       "      <td>1</td>\n",
       "    </tr>\n",
       "    <tr>\n",
       "      <th>2004</th>\n",
       "      <td>8657623</td>\n",
       "      <td>아니 잠깐 판타스틱 에서 맡았던 역할은 어떻게 설명할건데</td>\n",
       "      <td>1</td>\n",
       "    </tr>\n",
       "    <tr>\n",
       "      <th>...</th>\n",
       "      <td>...</td>\n",
       "      <td>...</td>\n",
       "      <td>...</td>\n",
       "    </tr>\n",
       "    <tr>\n",
       "      <th>2495</th>\n",
       "      <td>168912</td>\n",
       "      <td>미키 신이치로 멋짐</td>\n",
       "      <td>1</td>\n",
       "    </tr>\n",
       "    <tr>\n",
       "      <th>2496</th>\n",
       "      <td>1210015</td>\n",
       "      <td>치밀한 현실성 결과적 냉소는 더 포경선을 만선한듯 하다</td>\n",
       "      <td>1</td>\n",
       "    </tr>\n",
       "    <tr>\n",
       "      <th>2497</th>\n",
       "      <td>10182346</td>\n",
       "      <td>행복과 삶에 대해 진지하게 생각해볼 수 있게 했던 영화</td>\n",
       "      <td>1</td>\n",
       "    </tr>\n",
       "    <tr>\n",
       "      <th>2498</th>\n",
       "      <td>353866</td>\n",
       "      <td>그래도 ㅋㅋㅋ</td>\n",
       "      <td>1</td>\n",
       "    </tr>\n",
       "    <tr>\n",
       "      <th>2499</th>\n",
       "      <td>7745297</td>\n",
       "      <td>일전에 손주녀석이 물었습니다 할아버지는 전쟁영웅이에요 전 답했죠아니란다  그저 영웅...</td>\n",
       "      <td>1</td>\n",
       "    </tr>\n",
       "  </tbody>\n",
       "</table>\n",
       "<p>500 rows × 3 columns</p>\n",
       "</div>"
      ],
      "text/plain": [
       "            id                                           document  label\n",
       "2000   9832225                  끝내주고 짜임새 있는 액션과 카메라 워킹 시리즈 중 최고였다      1\n",
       "2001   9434805  지금까지 번은 넘게 본 영화입니다우울할때 이영화를 찾게되고 기분전환이 되어 가끔 찾...      1\n",
       "2002    139278                           광활한 아프리카에서 소녀의 성장기 감동 팍팍      1\n",
       "2003   9483513  채널돌리다가 멈춘영화스토리를 알고보는것보다 모르고보는것이 좋을듯  스토리와 연기에 ...      1\n",
       "2004   8657623                    아니 잠깐 판타스틱 에서 맡았던 역할은 어떻게 설명할건데      1\n",
       "...        ...                                                ...    ...\n",
       "2495    168912                                         미키 신이치로 멋짐      1\n",
       "2496   1210015                     치밀한 현실성 결과적 냉소는 더 포경선을 만선한듯 하다      1\n",
       "2497  10182346                    행복과 삶에 대해 진지하게 생각해볼 수 있게 했던 영화       1\n",
       "2498    353866                                            그래도 ㅋㅋㅋ      1\n",
       "2499   7745297  일전에 손주녀석이 물었습니다 할아버지는 전쟁영웅이에요 전 답했죠아니란다  그저 영웅...      1\n",
       "\n",
       "[500 rows x 3 columns]"
      ]
     },
     "metadata": {},
     "execution_count": 229
    }
   ],
   "metadata": {}
  },
  {
   "cell_type": "code",
   "execution_count": 230,
   "source": [
    "# ㅋ로 시작하는 문자열만 뽑기\r\n",
    "# sample_data['document'] = sample_data['document'].str.replace(\"[^ㅋ]\",\"\")\r\n",
    "\r\n",
    "# ㅋㅋㅋ 이런 것들 다 빠짐\r\n",
    "# sample_data2['document'] = sample_data['document'].str.replace(\"[^가-힣 ]\",\"\")\r\n",
    "\r\n",
    "# 띄어쓰기 없이 뽑고싶다면 끝이나 앞에 공백없이 입력\r\n",
    "# sample_data['document'] = sample_data['document'].str.replace(\"[^가-힣]\",\"\")\r\n",
    "\r\n",
    "# ^가 없으면 []안의 조건으로 출력\r\n",
    "# sample_data['document'] = sample_data['document'].str.replace(\"[가-힣 ]\",\"냐\")\r\n",
    "\r\n",
    "# ^가 있으면 []안의 조건이 아닌 것을 출력\r\n",
    "# sample_data['document'] = sample_data['document'].str.replace(\"[^가-힣 ]\",\"냐\")\r\n",
    "\r\n",
    "\r\n",
    "# sample_data\r\n",
    "\r\n",
    "# sample_data['document'] = sample_data['document'].str.replace(\"[^ㄱ-ㅎㅏ-ㅣ가-힣 ]\")\r\n",
    "# \"\" 표시 안하면 에러난다. replace이기 때문. -> \"원하는 값\", \"바꿀 값\""
   ],
   "outputs": [],
   "metadata": {}
  },
  {
   "cell_type": "markdown",
   "source": [
    "불용어를 제거하기 위해 불용어를 우선 정의한다"
   ],
   "metadata": {}
  },
  {
   "cell_type": "code",
   "execution_count": null,
   "source": [],
   "outputs": [],
   "metadata": {}
  }
 ],
 "metadata": {
  "orig_nbformat": 4,
  "language_info": {
   "name": "python",
   "version": "3.8.5",
   "mimetype": "text/x-python",
   "codemirror_mode": {
    "name": "ipython",
    "version": 3
   },
   "pygments_lexer": "ipython3",
   "nbconvert_exporter": "python",
   "file_extension": ".py"
  },
  "kernelspec": {
   "name": "python3",
   "display_name": "Python 3.8.5 64-bit ('chch': conda)"
  },
  "interpreter": {
   "hash": "a64de8b745ab094eb3381810b1d090f0053b4977cc21c07d5a367fb401258f96"
  }
 },
 "nbformat": 4,
 "nbformat_minor": 2
}