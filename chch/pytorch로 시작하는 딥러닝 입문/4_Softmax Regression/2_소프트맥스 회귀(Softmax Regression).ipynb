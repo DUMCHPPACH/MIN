{
 "cells": [
  {
   "cell_type": "markdown",
   "source": [
    "### 1. 로지스틱 회귀\r\n",
    "시그모이드 함수는 예측값을 0과 1 사이의 값으로 만듭니다. 예를 들어 스팸 메일 분류기를 로지스틱 회귀로 구현하였을 때, 출력이 0.75이라면 이는 이메일이 스팸일 확률이 75%라는 의미가 됩니다. 반대로, 스팸 메일이 아닐 확률은 25%가 됩니다. 이 두 확률의 총 합은 1입니다.\r\n",
    "\r\n",
    "\r\n",
    "\r\n",
    "### 2. 소프트맥스 회귀 = 다항 로지스틱 회귀(Multinomial Logistic Regression) \r\n",
    "확률의 총 합이 1이 되는 이 아이디어를 다중 클래스 분류 문제에 적용\r\n",
    "\r\n",
    "\r\n",
    "\r\n",
    "### 2. 소프트맥스 함수(Softmax function)\r\n",
    "소프트맥스 함수는 분류해야하는 정답지(클래스)의 총 개수를 k라고 할 때, k차원의 벡터를 입력받아 각 클래스에 대한 확률을 추정합니다\r\n",
    "\r\n",
    "실제값을 원핫인코딩으로 표현하여 실제값과 가장 오차가 적은 값이 정답으로 한다. \r\n",
    "\r\n",
    "X = 5X4, Y' = 5X3, W = 4X3(X와 Y'의 곱), B=5X3(Y'와 동일)\r\n",
    "\r\n",
    "\r\n",
    "\r\n",
    "Y' = softmax(XW + B)\r\n"
   ],
   "metadata": {}
  },
  {
   "cell_type": "markdown",
   "source": [
    "# 03. 소프트맥스 회귀의 비용 함수 구현하기"
   ],
   "metadata": {}
  },
  {
   "cell_type": "markdown",
   "source": [
    "### 1. 파이토치로 소프트맥스의 비용 함수 구현하기 (로우-레벨)"
   ],
   "metadata": {}
  },
  {
   "cell_type": "code",
   "execution_count": 3,
   "source": [
    "import torch\r\n",
    "import torch.nn.functional as F\r\n",
    "\r\n",
    "torch.manual_seed(1)\r\n",
    "\r\n",
    "z = torch.FloatTensor([1, 2, 3])\r\n",
    "hypothesis = F.softmax(z, dim=0)\r\n",
    "print(hypothesis)\r\n",
    "\r\n",
    "# 비용함수\r\n",
    "z = torch.rand(3,5, requires_grad=True)\r\n",
    "hypothesis = F.softmax(z, dim=1) # 두번째 차원에 적용-> (3,5)에서 (,5)부분에 적용!\r\n",
    "print(hypothesis)\r\n",
    "\r\n",
    "# 임의의 레이블을 만들어주기\r\n",
    "y = torch.randint(5,(3,)).long() # 0~4까지 숫자를 (3,)에 부여\r\n",
    "print(y)\r\n",
    "\r\n",
    "# 각 레이블에 대해서 원핫인코딩 수행\r\n",
    "y_one_hot = torch.zeros_like(hypothesis) #모든 원소가 0의 값을 가진 3x5 텐서를 만든다\r\n",
    "y_one_hot.scatter_(1,y.unsqueeze(1),1) \r\n",
    "# 연산 뒤에 _를 붙이면 In-place Operation (덮어쓰기 연산)\r\n",
    "\r\n",
    "# torch.scatter(input, dim, index, src) → Tensor\r\n",
    "\r\n",
    "# y_one_hot.scatter_(dim=1, (3x1 텐서), 1을 부여)\r\n",
    "\r\n",
    "print(y.unsqueeze(1))\r\n",
    "\r\n",
    "print(y_one_hot)\r\n",
    "'''\r\n",
    "tensor([[1., 0., 0., 0., 0.],\r\n",
    "        [0., 0., 1., 0., 0.],\r\n",
    "        [0., 1., 0., 0., 0.]])\r\n",
    "'''\r\n",
    "\r\n",
    "# 소프트맥스 회귀의 비용 함수\r\n",
    "cost = (y_one_hot * -torch.log(hypothesis)).sum(dim=1).mean()\r\n",
    "\r\n",
    "#2. 파이토치로 소프트맥스의 비용 함수 구현하기 (하이-레벨)\r\n",
    "\r\n",
    "\r\n",
    "print(cost)"
   ],
   "outputs": [
    {
     "output_type": "stream",
     "name": "stdout",
     "text": [
      "tensor([0.0900, 0.2447, 0.6652])\n",
      "tensor([[0.2645, 0.1639, 0.1855, 0.2585, 0.1277],\n",
      "        [0.2430, 0.1624, 0.2322, 0.1930, 0.1694],\n",
      "        [0.2226, 0.1986, 0.2326, 0.1594, 0.1868]], grad_fn=<SoftmaxBackward>)\n",
      "tensor([0, 2, 1])\n",
      "tensor([[0],\n",
      "        [2],\n",
      "        [1]])\n",
      "tensor([[1., 0., 0., 0., 0.],\n",
      "        [0., 0., 1., 0., 0.],\n",
      "        [0., 1., 0., 0., 0.]])\n",
      "tensor(1.4689, grad_fn=<MeanBackward0>)\n"
     ]
    }
   ],
   "metadata": {}
  }
 ],
 "metadata": {
  "orig_nbformat": 4,
  "language_info": {
   "name": "python",
   "version": "3.8.5",
   "mimetype": "text/x-python",
   "codemirror_mode": {
    "name": "ipython",
    "version": 3
   },
   "pygments_lexer": "ipython3",
   "nbconvert_exporter": "python",
   "file_extension": ".py"
  },
  "kernelspec": {
   "name": "python3",
   "display_name": "Python 3.8.5 64-bit ('chch': conda)"
  },
  "interpreter": {
   "hash": "a64de8b745ab094eb3381810b1d090f0053b4977cc21c07d5a367fb401258f96"
  }
 },
 "nbformat": 4,
 "nbformat_minor": 2
}