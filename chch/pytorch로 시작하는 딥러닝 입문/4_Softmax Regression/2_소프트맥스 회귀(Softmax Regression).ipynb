{
 "cells": [
  {
   "cell_type": "markdown",
   "source": [
    "### 1. 로지스틱 회귀\r\n",
    "시그모이드 함수는 예측값을 0과 1 사이의 값으로 만듭니다. 예를 들어 스팸 메일 분류기를 로지스틱 회귀로 구현하였을 때, 출력이 0.75이라면 이는 이메일이 스팸일 확률이 75%라는 의미가 됩니다. 반대로, 스팸 메일이 아닐 확률은 25%가 됩니다. 이 두 확률의 총 합은 1입니다.\r\n",
    "\r\n",
    "\r\n",
    "\r\n",
    "### 2. 소프트맥스 회귀 = 다항 로지스틱 회귀(Multinomial Logistic Regression) \r\n",
    "확률의 총 합이 1이 되는 이 아이디어를 다중 클래스 분류 문제에 적용\r\n",
    "\r\n",
    "\r\n",
    "\r\n",
    "### 2. 소프트맥스 함수(Softmax function)\r\n",
    "소프트맥스 함수는 분류해야하는 정답지(클래스)의 총 개수를 k라고 할 때, k차원의 벡터를 입력받아 각 클래스에 대한 확률을 추정합니다\r\n",
    "\r\n",
    "실제값을 원핫인코딩으로 표현하여 실제값과 가장 오차가 적은 값이 정답으로 한다. \r\n",
    "\r\n",
    "X = 5X4, Y' = 5X3, W = 4X3(X와 Y'의 곱), B=5X3(Y'와 동일)\r\n",
    "\r\n",
    "\r\n",
    "\r\n",
    "Y' = softmax(XW + B)\r\n"
   ],
   "metadata": {}
  },
  {
   "cell_type": "markdown",
   "source": [
    "# 03. 소프트맥스 회귀의 비용 함수 구현하기"
   ],
   "metadata": {}
  },
  {
   "cell_type": "code",
   "execution_count": null,
   "source": [],
   "outputs": [],
   "metadata": {}
  }
 ],
 "metadata": {
  "orig_nbformat": 4,
  "language_info": {
   "name": "python",
   "version": "3.8.5"
  },
  "kernelspec": {
   "name": "python3",
   "display_name": "Python 3.8.5 64-bit ('chch': conda)"
  },
  "interpreter": {
   "hash": "a64de8b745ab094eb3381810b1d090f0053b4977cc21c07d5a367fb401258f96"
  }
 },
 "nbformat": 4,
 "nbformat_minor": 2
}