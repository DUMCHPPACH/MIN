{
 "cells": [
  {
   "cell_type": "markdown",
   "source": [
    "# 1.희소 표현(Sparse Representation) = 원-핫 벡터\r\n",
    "벡터 또는 행렬(matrix)의 값이 대부분이 0으로 표현되는 방법을 희소 표현(sparse representation)이라고 한다.  \r\n",
    " 그러니까 원-핫 벡터는 희소 벡터(sparse vector)다."
   ],
   "metadata": {}
  },
  {
   "cell_type": "code",
   "execution_count": 1,
   "source": [
    "import torch\r\n",
    "# 원-핫 벡터 생성\r\n",
    "dog = torch.FloatTensor([1, 0, 0, 0, 0])\r\n",
    "cat = torch.FloatTensor([0, 1, 0, 0, 0])\r\n",
    "computer = torch.FloatTensor([0, 0, 1, 0, 0])\r\n",
    "netbook = torch.FloatTensor([0, 0, 0, 1, 0])\r\n",
    "book = torch.FloatTensor([0, 0, 0, 0, 1])\r\n",
    "\r\n",
    "print(torch.cosine_similarity(dog, cat, dim=0))\r\n",
    "print(torch.cosine_similarity(cat, computer, dim=0))\r\n",
    "print(torch.cosine_similarity(computer, netbook, dim=0))\r\n",
    "print(torch.cosine_similarity(netbook, book, dim=0))"
   ],
   "outputs": [
    {
     "output_type": "stream",
     "name": "stdout",
     "text": [
      "tensor(0.)\n",
      "tensor(0.)\n",
      "tensor(0.)\n",
      "tensor(0.)\n"
     ]
    }
   ],
   "metadata": {}
  },
  {
   "cell_type": "markdown",
   "source": [
    "# 원-핫 벡터로는 단어 간 의미적 유사도를 반영할 수 없다!!!"
   ],
   "metadata": {}
  }
 ],
 "metadata": {
  "orig_nbformat": 4,
  "language_info": {
   "name": "python",
   "version": "3.8.5",
   "mimetype": "text/x-python",
   "codemirror_mode": {
    "name": "ipython",
    "version": 3
   },
   "pygments_lexer": "ipython3",
   "nbconvert_exporter": "python",
   "file_extension": ".py"
  },
  "kernelspec": {
   "name": "python3",
   "display_name": "Python 3.8.5 64-bit ('chch': conda)"
  },
  "interpreter": {
   "hash": "a64de8b745ab094eb3381810b1d090f0053b4977cc21c07d5a367fb401258f96"
  }
 },
 "nbformat": 4,
 "nbformat_minor": 2
}